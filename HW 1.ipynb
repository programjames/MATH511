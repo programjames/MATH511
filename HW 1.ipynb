{
 "cells": [
  {
   "cell_type": "markdown",
   "metadata": {},
   "source": [
    "# HW 1\n",
    "\n",
    "## 1.1\n",
    "\n",
    "The Taylor expansion of $u(x+kh)$ is\n",
    "$$u(x+kh) = u(x) + (kh)u'(x) + \\frac{(kh)^2}{2}u''(x) + \\frac{(kh)^3}{6}u^{(3)}(kh) + \\cdots$$\n",
    "\n",
    "So the coefficient of $x^n$ in the 5-term approximation is\n",
    "$$\\frac{h^nu^{(n)}(x)}{n!}\\left[(-2)^nc_{-2}+(-1)^nc_{-1}+\\cdots+2^nc_2\\right]$$\n",
    "This should be $0$ for everything except $n=2$ where it should be $1$. We get the Vandermonde system\n",
    "$$\\begin{align*}\n",
    "0\\cdot0! &= c_{-2}+c_{-1}+c_{0}+c_{1}+c_{2}\\\\\n",
    "0\\cdot1! &= -2c_{-2}-c_{-1}+c_1+2c_2\\\\\n",
    "1\\cdot2! &= 4c_{-2}+c_{-1}+c_1+4c_2\\\\\n",
    "0\\cdot3! &= -8c_{-2}-c_{-1}+c_1+8c_2\\\\\n",
    "0\\cdot4! &= 16c_{-2}+c_{-1}+c_1+16c_2.\n",
    "\\end{align*}$$\n",
    "\n",
    "Or,\n",
    "$$\\begin{bmatrix}\n",
    "1&1&1&1&1\\\\\n",
    "-2&-1&0&1&2\\\\\n",
    "4&1&0&1&4\\\\\n",
    "-8&-1&0&1&8\\\\\n",
    "16&1&0&1&16\n",
    "\\end{bmatrix}\\begin{bmatrix}\n",
    "c_{-2}\\\\c_{-1}\\\\c_0\\\\c_1\\\\c_2\n",
    "\\end{bmatrix}=\\begin{bmatrix}\n",
    "0\\\\0\\\\2\\\\0\\\\0\n",
    "\\end{bmatrix}$$\n",
    "\n",
    "## 1.2\n",
    "I've copied the stencil code directly from the [the link given](https://github.com/rjleveque/amath585w2020/blob/master/notebooks/fdstencil.ipynb), and these are the coefficients:"
   ]
  },
  {
   "cell_type": "code",
   "execution_count": 24,
   "metadata": {},
   "outputs": [
    {
     "name": "stdout",
     "output_type": "stream",
     "text": [
      "Stencil for approximation to order 2 derivative at U_{0} is:\n",
      "[ - 0.0833333 U_{-2} + 1.33333 U_{-1} - 2.5 U_{0} + 1.33333 U_{1} - 0.0833333 U_{2}] / h^2\n"
     ]
    }
   ],
   "source": [
    "from pylab import *\n",
    "from scipy.special import factorial\n",
    "def fdcoeffV(k,xbar,x):\n",
    "    x = array(x)  # in case a list or tuple passed in, convert to numpy array\n",
    "    n = len(x)\n",
    "    if k >=n:\n",
    "        raise ValueError('*** len(x) must be larger than k')\n",
    "        \n",
    "    A = ones((n,n))\n",
    "    xrow = x - xbar  # displacement vector\n",
    "    \n",
    "    for i in range(1,n):\n",
    "        A[i,:] = (xrow**i) / factorial(i)\n",
    "      \n",
    "    condA = cond(A)  # condition number\n",
    "    if condA > 1e8:\n",
    "        print(\"Warning: condition number of Vandermonde matrix is approximately %.1e\" % condA)\n",
    "        \n",
    "    b = zeros(x.shape)\n",
    "    b[k] = 1.\n",
    "    \n",
    "    c = solve(A,b)\n",
    "    \n",
    "    return c\n",
    "def fdstencil(k, jbar, stencil_points):\n",
    "    \"\"\"\n",
    "    Compute and print the finite difference stencil for an order k derivative\n",
    "    using at least k+1 equally spaced points.\n",
    "    The stencil_points are thus assumed to be integers (indices of stencil points)\n",
    "    as is jbar, the index at which the approximation is to be used.\n",
    "    \n",
    "    For example, the standard second order stencil for u''(x_0) \n",
    "    can be printed via\n",
    "        fdstencil(2, 0, [-1,0,1])\n",
    "    \"\"\"\n",
    "    assert type(jbar) is int, '*** jbar should be an integer'\n",
    "    stencil_pts = array(stencil_points)\n",
    "    assert stencil_pts.dtype == int, '*** stencil_points should be integers'\n",
    "    \n",
    "    c = fdcoeffV(k, jbar, stencil_pts)\n",
    "    \n",
    "    print(\"Stencil for approximation to order %s derivative at U_{%s} is:\" \\\n",
    "          % (str(k), str(jbar)))\n",
    "    coeffs = ['%s / h^2' % str(cj) for cj in c]\n",
    "    s = '[' \n",
    "    for j in range(len(c)):\n",
    "        subj = str(stencil_pts[j])\n",
    "        cj = c[j]\n",
    "        sj = '%g U_{%s}' % (abs(cj), stencil_pts[j])\n",
    "        if cj >= 0:\n",
    "            s = s + ' + ' + sj\n",
    "        else:\n",
    "            s = s + ' - ' + sj\n",
    "    s = s + '] / h^%i' % k\n",
    "    print(s)\n",
    "    return c\n",
    "\n",
    "c = fdstencil(2, 0, [-2, -1, 0, 1, 2])"
   ]
  },
  {
   "cell_type": "markdown",
   "metadata": {},
   "source": [
    "These do in fact satisfy the conditions:"
   ]
  },
  {
   "cell_type": "code",
   "execution_count": 45,
   "metadata": {},
   "outputs": [
    {
     "name": "stdout",
     "output_type": "stream",
     "text": [
      "[ 3.05e-16 -5.55e-17  2.00e+00 -2.22e-15 -2.22e-15]\n",
      "All close to correct values? True\n"
     ]
    }
   ],
   "source": [
    "import numpy as np\n",
    "np.set_printoptions(precision=2)\n",
    "V = np.array([\n",
    "    [1,  1,  1, 1,  1],\n",
    "    [-2, -1, 0, 1,  2],\n",
    "    [4,  1,  0, 1,  4],\n",
    "    [-8, -1, 0, 1,  8],\n",
    "    [16, 1,  0, 1, 16],\n",
    "])\n",
    "\n",
    "print(V @ c)\n",
    "print(\"All close to correct values?\", all(np.isclose(V @ c, [0, 0, 2, 0, 0])))"
   ]
  },
  {
   "cell_type": "markdown",
   "metadata": {},
   "source": [
    "## 1.3"
   ]
  },
  {
   "cell_type": "code",
   "execution_count": 82,
   "metadata": {},
   "outputs": [
    {
     "name": "stdout",
     "output_type": "stream",
     "text": [
      "[   h      error  ]\n",
      "[1.00e-01 6.44e-05]\n",
      "[5.62e-02 6.46e-06]\n",
      "[3.16e-02 6.46e-07]\n",
      "[1.78e-02 6.47e-08]\n",
      "[1.00e-02 6.46e-09]\n",
      "[5.62e-03 6.43e-10]\n",
      "[3.16e-03 4.79e-11]\n",
      "[ 1.78e-03 -5.23e-11]\n",
      "[ 1.00e-03 -3.23e-10]\n",
      "[ 5.62e-04 -6.14e-10]\n",
      "[ 3.16e-04 -4.75e-09]\n",
      "[ 1.78e-04 -1.83e-08]\n",
      "[ 1.00e-04 -3.79e-08]\n"
     ]
    }
   ],
   "source": [
    "def u(x): return np.sin(2*x)\n",
    "exact_value = -4*u(1)\n",
    "\n",
    "print(\"[   h      error  ]\")\n",
    "hvals = np.logspace(-1, -4, 13)\n",
    "herrs = []\n",
    "for h in hvals:\n",
    "    value = c @ [u(1-2*h), u(1-h), u(1), u(1+h), u(1+2*h)] / h**2\n",
    "    err = value - exact_value\n",
    "    herrs.append(err)\n",
    "    print(np.array([h, err]))"
   ]
  },
  {
   "cell_type": "code",
   "execution_count": 83,
   "metadata": {},
   "outputs": [
    {
     "name": "stderr",
     "output_type": "stream",
     "text": [
      "c:\\python37\\lib\\site-packages\\ipykernel_launcher.py:4: RuntimeWarning: invalid value encountered in log\n",
      "  after removing the cwd from sys.path.\n"
     ]
    },
    {
     "data": {
      "image/png": "[encoded data removed]",
      "text/plain": [
       "<Figure size 432x288 with 1 Axes>"
      ]
     },
     "metadata": {
      "needs_background": "light"
     },
     "output_type": "display_data"
    }
   ],
   "source": [
    "# Log-log plot\n",
    "import matplotlib.pyplot as plt\n",
    "x = np.log(hvals)\n",
    "y = np.log(herrs)\n",
    "plt.plot(x, y);"
   ]
  },
  {
   "cell_type": "code",
   "execution_count": 84,
   "metadata": {},
   "outputs": [
    {
     "data": {
      "image/png": "[encoded data removed]",
      "text/plain": [
       "<Figure size 432x288 with 1 Axes>"
      ]
     },
     "metadata": {
      "needs_background": "light"
     },
     "output_type": "display_data"
    }
   ],
   "source": [
    "# Slope of log-log plot\n",
    "plt.plot((y[:-1]-y[1:])/(x[:-1]-x[1:]));"
   ]
  },
  {
   "cell_type": "markdown",
   "metadata": {},
   "source": [
    "As you can see, the slope is fourth-order (as expected) for larger values of $h$. Finally, I'm a little confused by what this means in the homework: \"compare against the predicted error from the leading term of the expression printed by fdstencil.\" My best guess is to take the Taylor series out two degrees further to get a theoretical guess of the error, and compare against that.\n",
    "\n",
    "The Taylor coefficient for $h^5$ works out to be about $0$ because we're using a centered difference approximation. (This is why I said take it out two degrees further.) The Taylor coefficient for $h^6$ is\n",
    "\n",
    "$$\\frac{(-2)^6c_{-2}+(-1)^6c_1+0^6c_0+1^6c_1+2^6c_2}{6!}\\cdot u^{(6)}(1)$$\n",
    "\n",
    "so a theoretical error approximation would be\n",
    "\n",
    "$$\\frac{c\\cdot [64\\ 1\\ 0\\ 1\\ 64]}{6!}\\cdot u^{(6)}(1) \\cdot h^4$$\n",
    "\n",
    "(as the finite difference approximation divides by $h^2$). I've hardcoded in $u^{(6)}(1) = -64u(1)$ below. It matches the computed error pretty well for larger values of $h$."
   ]
  },
  {
   "cell_type": "code",
   "execution_count": 86,
   "metadata": {},
   "outputs": [
    {
     "name": "stdout",
     "output_type": "stream",
     "text": [
      "[h computed_error theoretical_error]\n",
      "[1.00e-01 6.44e-05 6.47e-05]\n",
      "[5.62e-02 6.46e-06 6.47e-06]\n",
      "[3.16e-02 6.46e-07 6.47e-07]\n",
      "[1.78e-02 6.47e-08 6.47e-08]\n",
      "[1.00e-02 6.46e-09 6.47e-09]\n",
      "[5.62e-03 6.43e-10 6.47e-10]\n",
      "[3.16e-03 4.79e-11 6.47e-11]\n",
      "[ 1.78e-03 -5.23e-11  6.47e-12]\n",
      "[ 1.00e-03 -3.23e-10  6.47e-13]\n",
      "[ 5.62e-04 -6.14e-10  6.47e-14]\n",
      "[ 3.16e-04 -4.75e-09  6.47e-15]\n",
      "[ 1.78e-04 -1.83e-08  6.47e-16]\n",
      "[ 1.00e-04 -3.79e-08  6.47e-17]\n"
     ]
    }
   ],
   "source": [
    "taylor_coeff_x6 = tc = c @ [64, 1, 0, 1, 64] / factorial(6) * (-64*u(1))\n",
    "print(\"[h computed_error theoretical_error]\")\n",
    "for h in hvals:\n",
    "    value = c @ [u(1-2*h), u(1-h), u(1), u(1+h), u(1+2*h)] / h**2\n",
    "    computed_err = value - exact_value\n",
    "    theoretical_err = tc*h**4\n",
    "    print(np.array([h, computed_err, theoretical_err]))"
   ]
  },
  {
   "cell_type": "code",
   "execution_count": null,
   "metadata": {},
   "outputs": [],
   "source": []
  }
 ],
 "metadata": {
  "kernelspec": {
   "display_name": "Python 3",
   "language": "python",
   "name": "python3"
  },
  "language_info": {
   "codemirror_mode": {
    "name": "ipython",
    "version": 3
   },
   "file_extension": ".py",
   "mimetype": "text/x-python",
   "name": "python",
   "nbconvert_exporter": "python",
   "pygments_lexer": "ipython3",
   "version": "3.7.4"
  }
 },
 "nbformat": 4,
 "nbformat_minor": 2
}
