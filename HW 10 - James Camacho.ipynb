{
 "cells": [
  {
   "cell_type": "markdown",
   "metadata": {},
   "source": [
    "# HW 10\n",
    "## By James Camacho\n",
    "\n",
    "#### (a)\n",
    "\n",
    "We have\n",
    "\n",
    "$$\n",
    "\\begin{align*}\n",
    "u(x+ah, y+bh) = u &+ h\\left[au_x+bu_y\\right]\\\\\n",
    "&+ \\frac{h^2}{2!}\\left[a^2u_{xx}+2abu_{xy}+b^2u_{yy}\\right]\\\\\n",
    "&+ \\frac{h^3}{3!}\\left[a^3u_{x^3}+3a^2bu_{x^2y}+3ab^2u_{xy^2}+b^3u_{y^3}\\right]\\\\\n",
    "&+ \\frac{h^4}{4!}\\left[a^4u_{x^4} + \\cdots + b^4u_{y^4}\\right]\\\\\n",
    "&+ O(h^5).\n",
    "\\end{align*}\n",
    "$$\n",
    "\n",
    "In our finite difference scheme, we have $(a, b)\\in \\{(-1, 0), (1, 0), (0, -1), (0, 1)\\}$. Adding them up we get (where $[h^n]$ represents the coefficient of $h^n$):\n",
    "\n",
    "$$\\begin{align*}\n",
    "[h^0](U_{i-1,j}+U_{i+1,j}+U_{i,j-1}+U_{i,j+1}-4U_{i,j}) &= 1 + 1 + 1 + 1 - 4\\\\\n",
    "&= 0\\\\\n",
    "[h^1](U_{i-1,j}+U_{i+1,j}+U_{i,j-1}+U_{i,j+1}-4U_{i,j}) &= u_x(-1 + 1) + u_y(-1 + 1) + 0\\\\\n",
    "&= 0\\\\\n",
    "[h^2](U_{i-1,j}+U_{i+1,j}+U_{i,j-1}+U_{i,j+1}-4U_{i,j}) &= \\frac{1}{2}\\left[u_{xx}(1 + 1) + u_{yy}(1 + 1) + 0\\right]\\\\\n",
    "&= u_{xx} + u_{yy}\\\\\n",
    "[h^3](U_{i-1,j}+U_{i+1,j}+U_{i,j-1}+U_{i,j+1}-4U_{i,j}) &= u_{xxx}(-1 + 1) + u_{yyy}(-1 + 1) + 0\\\\\n",
    "&= 0\\\\\n",
    "[h^4](U_{i-1,j}+U_{i+1,j}+U_{i,j-1}+U_{i,j+1}-4U_{i,j}) &= \\frac{1}{24}\\left[u_{xxxx}(1 + 1) + u_{yyyy}(1 + 1) + 0\\right]\\\\\n",
    "&= \\frac{1}{12}\\left(u_{xxxx} + u_{yyyy}\\right)\\\\\n",
    "[h^5](U_{i-1,j}+U_{i+1,j}+U_{i,j-1}+U_{i,j+1}-4U_{i,j}) &= \\frac{1}{5!}\\left[u_{x^5}(-1 + 1) + u_{y^5}(-1 + 1) + 0\\right]\\\\\n",
    "&= 0.\n",
    "\\end{align*}$$\n",
    "\n",
    "So the finite difference method will give\n",
    "\n",
    "$$\\begin{align*}&\\frac{1}{h^2}(U_{i-1,j}+U_{i+1,j}+U_{i,j-1}+U_{i,j+1}-4U_{i,j}) + k^2U_{i,j}\\\\\n",
    "&= u_{xx} + u_{yy} + \\frac{1}{12}h^2(u_{xxxx}+u_{yyyy}) + O(h^4) + k^2u \\\\\n",
    "&= f_{i, j} + \\frac{1}{12}h^2(u_{xxxx}+u_{yyyy})+O(h^4).\n",
    "\\end{align*}$$\n",
    "\n",
    "So the local truncation error is\n",
    "\n",
    "$$(\\tau_5)_{i,j} = \\frac{1}{12}h^2(u_{xxxx}+u_{yyyy})_{i,j}+O(h^4).$$"
   ]
  },
  {
   "cell_type": "markdown",
   "metadata": {},
   "source": [
    "### (b)\n",
    "\n",
    "Note that\n",
    "\n",
    "$$\\begin{align*}\n",
    "\\nabla^2f &= \\nabla^2(u_{xx}+u_{yy}) + \\nabla^2(k^2u)\\\\\n",
    "&= (u_{x^4}+u_{y^4}+2u_{x^2y^2}) + k^2(u_{xx}+u_{yy})\\\\\n",
    "&= (u_{xxxx}+u_{yyyy}) + 2(u_xx)_{yy} + k^2(f - k^2u).\n",
    "\\end{align*}$$\n",
    "\n",
    "Rearranging gives\n",
    "\n",
    "$$u_{xxxx}+u_{yyyy} = \\nabla^2f - k^2f + k^4u - 2(u_{xx})_{yy}.$$"
   ]
  },
  {
   "cell_type": "markdown",
   "metadata": {},
   "source": [
    "### (c)\n",
    "\n",
    "We add $\\frac{1}{12}h^2$ times the last equation to our forcing term. This gives\n",
    "\n",
    "$$\\tilde{f} = f + \\frac{1}{12}h^2\\left[\\nabla^2f - k^2f\\right],$$\n",
    "$$g = \\frac{1}{12}h^2\\left[k^4u - 2u_{xxyy}\\right]$$\n",
    "\n",
    "so the finite difference equation becomes\n",
    "\n",
    "$$AU = \\tilde{f} + g.$$\n",
    "\n",
    "We could find an approximation for $u$, and then plug that into $g$ repeatedly until it converges (fixed point iteration). Of course, that needs us to find $u_{xxyy}$ with a 9-point stencil anyway, so we may as well just modify the finite difference method slightly.\n",
    "\n",
    "We have\n",
    "\n",
    "$$(u_{xx})_{i, j-1} \\approx \\frac{1}{h^2}\\left[U_{i-1,j-1} + U_{i+1,j-1} - 2U_{i,j-1}\\right],$$\n",
    "$$(u_{xx})_{i, j} \\approx \\frac{1}{h^2}\\left[U_{i-1,j} + U_{i+1,j} - 2U_{i,j}\\right],$$\n",
    "$$(u_{xx})_{i, j+1} \\approx \\frac{1}{h^2}\\left[U_{i-1,j+1} + U_{i+1,j+1} - 2U_{i,j+1}\\right],$$\n",
    "\n",
    "so\n",
    "\n",
    "$$(u_{xx})_{yy}=\\frac{1}{h^2}\\left[(u_{xx})_{i,j-1} + (u_{xx})_{i,j+1} - 2(u_{xx})_{i,j}\\right] + O(h^2),$$\n",
    "\n",
    "which plugging in the above gives the finite difference scheme\n",
    "\n",
    "$$u_{xxyy} = \\frac{1}{h^4}\\left[U_{i-1,j-1}+U_{i-1,j+1}+U_{i+1,j-1}+U_{i+1,j+1} - 2U_{i-1,j} - 2U_{i+1,j} - 2U_{i,j-1} - 2U_{i,j+1} + 4U_{i,j}\\right] + O(h^2)$$\n",
    "\n",
    "(verify).\n",
    "\n",
    "So we have\n",
    "\n",
    "$$g = \\frac{1}{12}h^2k^4U_{i,j} + \\frac{1}{12h^2}\\left[4U_{i,j} + \\sum_{sym} U_{i+1,j+1} - 2\\sum_{sym}U_{i+1,j}\\right] + O(h^4).$$\n",
    "\n",
    "Plugging this into $g$ and subtracting from the finite difference scheme gives the new scheme\n",
    "\n",
    "$$\\frac{1}{h^2}\\left[\\frac{7}{6}\\sum_{sym}U_{i+1,j} - \\frac{1}{12}\\sum_{sym}U_{i+1,j+1} - \\frac{13}{3}U_{i,j}\\right] + k^2U_{i,j} - \\frac{h^2}{12}k^4U_{i,j} = f_{i,j} + \\frac{h^2}{12}\\left[\\nabla^2f - k^2f\\right]$$\n",
    "\n",
    "which will be order $O(h^4).$"
   ]
  },
  {
   "cell_type": "markdown",
   "metadata": {},
   "source": [
    "### Added later:\n",
    "\n",
    "It's actually better to use the 9-point stencil for the LHS Laplacian, which would give\n",
    "\n",
    "$$\\frac{1}{h^2}\\left[\\frac{1}{2}\\sum_{sym}U_{i+1,j} - \\frac{1}{4}\\sum_{sym}U_{i+1,j+1} - 3U_{i,j}\\right] + k^2U_{i,j} - \\frac{h^2}{12}k^4U_{i,j} = f_{i,j} + \\frac{h^2}{12}\\left[\\nabla^2f - k^2f\\right]$$\n"
   ]
  },
  {
   "cell_type": "code",
   "execution_count": null,
   "metadata": {},
   "outputs": [],
   "source": []
  }
 ],
 "metadata": {
  "kernelspec": {
   "display_name": "Python 3",
   "language": "python",
   "name": "python3"
  },
  "language_info": {
   "codemirror_mode": {
    "name": "ipython",
    "version": 3
   },
   "file_extension": ".py",
   "mimetype": "text/x-python",
   "name": "python",
   "nbconvert_exporter": "python",
   "pygments_lexer": "ipython3",
   "version": "3.7.4"
  }
 },
 "nbformat": 4,
 "nbformat_minor": 2
}
