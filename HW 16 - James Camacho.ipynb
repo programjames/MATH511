{
 "cells": [
  {
   "cell_type": "markdown",
   "metadata": {},
   "source": [
    "# HW 16\n",
    "## James Camacho\n",
    "\n",
    "It's been a few homeworks, so let's remind everyone what the problem is. We're trying to solve\n",
    "\n",
    "$$u_{xx}+u_{yy}+k^2u = f$$\n",
    "\n",
    "where \n",
    "\n",
    "$$f = (k^2-1)(\\cos x + \\sin y).$$\n",
    "\n",
    "We're given the exact solution\n",
    "\n",
    "$$u(x, y) = j_0\\left(k\\sqrt{x^2+y^2}\\right) + \\cos(x) + \\sin(y),$$\n",
    "\n",
    "and that $j_0$ satisfies the homogenous equation.\n",
    "\n",
    "### (a)\n",
    "The nine-point Laplacian is\n",
    "\n",
    "$$\\nabla^2u = \\frac{1}{3h^2}\\left[\\sum_{sym}U_{11} + \\sum_{sym}U_{10} - 8U_{i,j}\\right]$$\n",
    "\n",
    "which comes from rotating the five-point stencil $45^\\circ$ and adding it to itself. Our numerical method is\n",
    "\n",
    "$$\\frac{1}{3h^2}\\left[\\sum_{sym}U_{11} + \\sum_{sym}U_{10} - 8U_{00}\\right] + k^2U_{00} = F_{00}.$$\n",
    "\n",
    "As it's symmetric, all odd powers will cancel out. Computing the even powers with the Taylor expansion, we have\n",
    "\n",
    "$$\\begin{align*}\n",
    "[h^{-2}]\\nabla^2u &=0\\\\\n",
    "[h^0]\\nabla^2u &= u_{xx}+u_{yy}\\\\\n",
    "[h^2]\\nabla^2u &= \\frac{u_{xxxx}+4u_{xxyy}+u_{yyyy}}{12}\n",
    "\\end{align*}$$\n",
    "\n",
    "so the local truncation error is\n",
    "\n",
    "$$\\tau = \\frac{h^2}{12}(u_{xxxx}+4u_{xxyy}+u_{yyyy}) + O(h^4).$$\n",
    "\n",
    "### (b)\n",
    "From previous homework assignments know\n",
    "\n",
    "$$\\frac{h^2}{12}\\left(u_{xxxx}+2u_{xxyy}+u_{yyyy}\\right) = \\frac{h^2}{12}\\left(\\nabla^2f - k^2(f-k^2u)\\right),$$\n",
    "$$\\frac{h^2}{12}\\left(2u_{xxyy}\\right) = \\frac{1}{6h^2}\\left[\\sum_{sym}U_{11} - 2\\sum_{sym}U_{10} + 4U_{00}\\right]$$\n",
    "\n",
    "We rearrange this into two pieces, one correction for $f$, and the other for the finite difference matrix. We get the new method\n",
    "\n",
    "$$\\frac{2}{3}\\sum_{sym}U_{10}+\\frac{1}{6}\\sum_{sym}U_{11}-\\frac{10}{3}U_{00} + \\left(h^2k^2-\\frac{h^4k^4}{12}\\right)U_{00} = h^2f + \\frac{h^4}{12}(\\nabla^2f-k^2f).$$\n",
    "\n",
    "### (c)\n",
    "This is implemented below:"
   ]
  },
  {
   "cell_type": "code",
   "execution_count": 94,
   "metadata": {},
   "outputs": [],
   "source": [
    "import numpy as np\n",
    "from scipy.special import jv\n",
    "import scipy.sparse\n",
    "\n",
    "j0 = lambda kr: jv(0, kr)\n",
    "\n",
    "C00 = lambda h: -10/3 + h**2*k**2 - h**4*k**4/12\n",
    "C10 = 2/3\n",
    "C11 = 1/6\n",
    "\n",
    "k = 20\n",
    "\n",
    "def f(x, y):\n",
    "    return (k**2 - 1)*(np.cos(x) + np.sin(y))\n",
    "\n",
    "def laplace_f(x, y):\n",
    "    return -f(x, y)\n",
    "\n",
    "def u_exact(x, y):\n",
    "    return j0(k*np.sqrt(x**2+y**2)) + np.cos(x) + np.sin(y)\n",
    "\n",
    "def bdry(x, y, N):\n",
    "    xi = np.linspace(0, 1, N)\n",
    "    if x == None:\n",
    "        return u_exact(xi, y)\n",
    "    if y == None:\n",
    "        return u_exact(x, xi)\n",
    "    \n",
    "    raise(\"Bad input. Example of good input: (None, 0) = along x axis with y=0.\")\n",
    "\n",
    "def add_boundaries(u, N):\n",
    "    u = np.pad(u, pad_width=1, mode='empty').T\n",
    "    u[0, :] = bdry(0, None, N)\n",
    "    u[-1,:] = bdry(1, None, N)\n",
    "    u[:, 0] = bdry(None, 0, N)\n",
    "    u[:,-1] = bdry(None, 1, N)\n",
    "    return u.T\n",
    "\n",
    "def f_bdry(x, y, n):\n",
    "    h = 1 / (n+1)\n",
    "    xi = np.linspace(0, 1, n+2)\n",
    "    if x == None:\n",
    "        v = u_exact(xi, y)\n",
    "    elif y == None:\n",
    "        v = u_exact(x, xi)\n",
    "    else:\n",
    "        raise Exception(\"Bad input. Example of good input: (None, 0) = along x axis with y=0.\")\n",
    "    \n",
    "    # So corners only get subtracted a total of once.\n",
    "    v[0] /= 2\n",
    "    v[-1] /= 2\n",
    "    \n",
    "    return v[1:-1]*C10 + (v[2:] + v[:-2])*C11\n",
    "\n",
    "def get_F(n):\n",
    "    h = 1 / (n+1)\n",
    "    xi = np.linspace(0, 1, n+2)[1:-1]\n",
    "    x, y = np.meshgrid(xi, xi)\n",
    "    F = h**2 * f(x, y)\n",
    "    F = F.reshape((n, n)).T\n",
    "    \n",
    "    # Subtract off Dirichlet boundaries\n",
    "    F[0, :] -= f_bdry(0, None, n)\n",
    "    F[-1, :] -= f_bdry(1, None, n)\n",
    "    F[:, 0] -= f_bdry(None, 0, n)\n",
    "    F[:, -1] -= f_bdry(None, 1, n)\n",
    "    \n",
    "    return F.T.flatten()\n",
    "\n",
    "def get_A(n):\n",
    "    h = 1 / (n+1)\n",
    "    # Nine point stencil for Laplacian w/ error included\n",
    "    d0 = np.full(n**2, C00(h))\n",
    "    d1 = ([C10]*(n-1) + [0])*n # left/right\n",
    "    d2 = np.full(n**2, C10) # up/down\n",
    "    d3 = np.concatenate([[0]+[C11]*(n-1)]*n) # bl, tr corners\n",
    "    d4 = np.concatenate([[C11]*(n-1)+[0]]*n) # tl, br corners\n",
    "    diags = [d0, d1, d1, d2, d2, d3, d3, d4, d4]\n",
    "    offsets = [0, 1, -1, n, -n, -n+1, n-1, -n-1, n+1]\n",
    "    A = scipy.sparse.diags(diags, offsets)\n",
    "    return A\n",
    "\n",
    "def f_correction(n):\n",
    "    h = 1 / (n+1)\n",
    "    xi = np.linspace(0, 1, n+2)[1:-1]\n",
    "    x, y = np.meshgrid(xi, xi)\n",
    "    \n",
    "    F = f(x, y).reshape((n, n))\n",
    "    df = (-1-k**2)*F\n",
    "    \n",
    "    return df.flatten() * h**4 / 12\n",
    "\n",
    "def solve_helmholtz(n, max_iters=1, error=1e-10):\n",
    "    A = get_A(n)\n",
    "    F = get_F(n) + f_correction(n)\n",
    "    u = scipy.sparse.linalg.spsolve(A, F)\n",
    "    \n",
    "    return u"
   ]
  },
  {
   "cell_type": "code",
   "execution_count": 96,
   "metadata": {},
   "outputs": [
    {
     "data": {
      "image/png": "[encoded data removed]",
      "text/plain": [
       "<Figure size 432x288 with 2 Axes>"
      ]
     },
     "metadata": {
      "needs_background": "light"
     },
     "output_type": "display_data"
    }
   ],
   "source": [
    "import seaborn as sns\n",
    "import matplotlib.pyplot as plt\n",
    "\n",
    "n = 50\n",
    "\n",
    "u = solve_helmholtz(n)\n",
    "u = u.reshape((n, n))\n",
    "u = add_boundaries(u, n+2)\n",
    "\n",
    "x = y = np.linspace(0, 1, n+2)\n",
    "xx, yy = np.meshgrid(x, y)\n",
    "ux = u_exact(xx, yy).reshape((n+2, n+2))\n",
    "error = np.max(abs(u-ux))\n",
    "\n",
    "plt.title(f\"Heatmap (n={n}, \"+r\"$||e||_{\\infty}$\"+f\"={error:.2e})\")\n",
    "ax = sns.heatmap(u, cmap=\"coolwarm\")\n",
    "ax.invert_yaxis()\n",
    "plt.axis('off')\n",
    "plt.show();"
   ]
  },
  {
   "cell_type": "code",
   "execution_count": 17,
   "metadata": {},
   "outputs": [
    {
     "name": "stdout",
     "output_type": "stream",
     "text": [
      "0.1 5.224315513530087e-08\n",
      "0.05 3.261604319959588e-09\n",
      "0.03333333333333333 6.449192291313466e-10\n",
      "0.025 2.0439872017163907e-10\n",
      "0.02 8.393508110771108e-11\n"
     ]
    },
    {
     "name": "stderr",
     "output_type": "stream",
     "text": [
      "c:\\python37\\lib\\site-packages\\scipy\\sparse\\linalg\\dsolve\\linsolve.py:145: SparseEfficiencyWarning: spsolve requires A be CSC or CSR matrix format\n",
      "  SparseEfficiencyWarning)\n"
     ]
    }
   ],
   "source": [
    "hs = []\n",
    "errors = []\n",
    "for n in [99, 199, 299, 399, 499]:\n",
    "    n //= 10\n",
    "    h = 1/(n+1)\n",
    "    hs.append(h)\n",
    "    u = solve_helmholtz(n)\n",
    "    u = u.reshape((n, n))\n",
    "    u = add_boundaries(u, n+2)\n",
    "\n",
    "    x = y = np.linspace(0, 1, n+2)\n",
    "    xx, yy = np.meshgrid(x, y)\n",
    "    ux = u_exact(xx, yy).reshape((n+2, n+2))\n",
    "    error = np.linalg.norm((u-ux).flatten(), ord=np.inf)\n",
    "    \n",
    "    errors.append(error)\n",
    "    print(h, error)"
   ]
  },
  {
   "cell_type": "code",
   "execution_count": 18,
   "metadata": {},
   "outputs": [
    {
     "name": "stdout",
     "output_type": "stream",
     "text": [
      "Slope: 3.997739613718492\n"
     ]
    },
    {
     "data": {
      "image/png": "[encoded data removed]",
      "text/plain": [
       "<Figure size 432x288 with 1 Axes>"
      ]
     },
     "metadata": {
      "needs_background": "light"
     },
     "output_type": "display_data"
    }
   ],
   "source": [
    "log_h = np.log(hs)\n",
    "log_e = np.log(errors)\n",
    "plt.plot(log_h, log_e)\n",
    "plt.title(\"Log-log plot\")\n",
    "plt.xlabel(\"log h\")\n",
    "plt.ylabel(\"log error\")\n",
    "\n",
    "slope, _ = np.polyfit(log_h, log_e, deg=1)\n",
    "print(\"Slope:\", slope)"
   ]
  },
  {
   "cell_type": "markdown",
   "metadata": {},
   "source": [
    "As you can see, it is fourth-order."
   ]
  }
 ],
 "metadata": {
  "kernelspec": {
   "display_name": "Python 3",
   "language": "python",
   "name": "python3"
  },
  "language_info": {
   "codemirror_mode": {
    "name": "ipython",
    "version": 3
   },
   "file_extension": ".py",
   "mimetype": "text/x-python",
   "name": "python",
   "nbconvert_exporter": "python",
   "pygments_lexer": "ipython3",
   "version": "3.7.4"
  }
 },
 "nbformat": 4,
 "nbformat_minor": 2
}
