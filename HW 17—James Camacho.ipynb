{
 "cells": [
  {
   "cell_type": "markdown",
   "metadata": {},
   "source": [
    "# HW 17\n",
    "## James Camacho\n",
    "\n",
    "First we need to find the 3-step Adams-Moulton method. We need to find the coefficients $b_i$ that maximize the order of the method\n",
    "\n",
    "$$u_{n+3}-u_{n+2} = h\\sum_{j=0}^{3}b_jf(t_{n+j}, u_{n+j})$$"
   ]
  },
  {
   "cell_type": "markdown",
   "metadata": {},
   "source": [
    "----\n",
    "\n",
    "In general the Adams-Moulton method would be\n",
    "\n",
    "$$\\sum_{j=0}^s a_ju_j = h\\sum_{j=0}^s b_jf_j.$$\n",
    "\n",
    "Taking Taylor series gives\n",
    "\n",
    "$$u_j = u_0 + hjf_0 + \\frac{h^2j^2}{2!}f_0' + \\cdots,$$\n",
    "$$hf_j = hf_0 + h^2jf_0' + \\frac{h^3j^2}{2!}f_0'' + \\cdots.$$\n",
    "\n",
    "If we want order $p$, equating coefficients gives\n",
    "\n",
    "$$\\sum j^{i}a_j = i\\sum j^{i-1} b_j$$\n",
    "\n",
    "for all $0\\le i \\le p+1$. For example, the forward Euler method has $(a_0, a_1) = (-1, 1); (b_0, b_1) = (1, 0)$, and has\n",
    "\n",
    "$$\\sum a_j = 0,$$\n",
    "\n",
    "$$\\sum j^1a_j = 1 = 1\\sum b_j,$$\n",
    "\n",
    "$$\\sum j^2a_j = 1 \\ne 0 = 2\\sum jb_j,$$\n",
    "\n",
    "so it is first order.\n",
    "\n",
    "---"
   ]
  },
  {
   "cell_type": "markdown",
   "metadata": {},
   "source": [
    "We apply that to our 3-step Adam's Moulton method. We have $(a_0, a_1, a_2, a_3) = (0, 0, -1, 1)$ and unknown $(b_0, b_1, b_2, b_3).$ It will be consistent as $\\sum a_j = 0$. Also,\n",
    "\n",
    "$$\\sum j^{i+1} a_j = 3^i - 2^i.$$\n",
    "\n",
    "We write a quick computer program to calculate our unknowns."
   ]
  },
  {
   "cell_type": "code",
   "execution_count": 8,
   "metadata": {},
   "outputs": [
    {
     "data": {
      "text/plain": [
       "array([ 1., -5., 19.,  9.])"
      ]
     },
     "execution_count": 8,
     "metadata": {},
     "output_type": "execute_result"
    }
   ],
   "source": [
    "import numpy as np\n",
    "\n",
    "ii = np.arange(1, 5)\n",
    "j = np.array([0, 1, 2, 3])\n",
    "M = np.array([i*j**(i-1) for i in ii])\n",
    "A = 3**ii - 2**ii\n",
    "\n",
    "24*np.linalg.solve(M, A)"
   ]
  },
  {
   "cell_type": "markdown",
   "metadata": {},
   "source": [
    "So our 3-step Adam's Moulton method is\n",
    "\n",
    "$$u_{n+3} = u_{n+2} + \\frac{h}{24}\\left[f_0 - 5f_1 + 19f_2 + 9f_3\\right]$$.\n",
    "\n",
    "---"
   ]
  },
  {
   "cell_type": "markdown",
   "metadata": {},
   "source": [
    "### Consistency\n",
    "\n",
    "The local truncation error is\n",
    "\n",
    "$$\\frac{u_{n+3}-u_{n+2}}{h} - \\frac{1}{24}\\left[f_0 - 5f_1 + 19f_2 + 9f_3\\right]$$\n",
    "\n",
    "From the coefficient-equating above, we know that it is at least fourth order, so the LTE is $O(h^4)$, clearly in $o(1)$."
   ]
  },
  {
   "cell_type": "markdown",
   "metadata": {},
   "source": [
    "### Zero-stability\n",
    "\n",
    "It shouldn't blow up if a small error is introduced to the homogenous problem $u = f = 0$. The characteristic polynomial is\n",
    "\n",
    "$$\\zeta^3 - \\zeta^2 = 0$$\n",
    "\n",
    "which has roots $0, 0, 1$. So in general $u_n$ will be of the form $c_1\\cdot 0^n + nc_2\\cdot 0^n + c_3\\cdot 1^n = c_3$. We don't really need to solve for $c_3$ (but it will be $c_3 = u_3$), we have enough to know that any error term introduced is bounded by $c_3$."
   ]
  },
  {
   "cell_type": "markdown",
   "metadata": {},
   "source": [
    "### Consistency + Zero-Stability $\\implies$ Convergence\n",
    "\n",
    "This is the Dahlquist Equivalence Theorem."
   ]
  }
 ],
 "metadata": {
  "kernelspec": {
   "display_name": "Python 3",
   "language": "python",
   "name": "python3"
  },
  "language_info": {
   "codemirror_mode": {
    "name": "ipython",
    "version": 3
   },
   "file_extension": ".py",
   "mimetype": "text/x-python",
   "name": "python",
   "nbconvert_exporter": "python",
   "pygments_lexer": "ipython3",
   "version": "3.7.4"
  }
 },
 "nbformat": 4,
 "nbformat_minor": 2
}
