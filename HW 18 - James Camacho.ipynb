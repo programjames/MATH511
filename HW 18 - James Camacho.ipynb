{
 "cells": [
  {
   "cell_type": "markdown",
   "metadata": {},
   "source": [
    "# HW 18\n",
    "## James Camacho\n",
    "\n",
    "**Task:** Confirm the results of examples 7.4–7.6."
   ]
  },
  {
   "cell_type": "code",
   "execution_count": 2,
   "metadata": {},
   "outputs": [],
   "source": [
    "# Imports\n",
    "import numpy as np\n",
    "import matplotlib.pyplot as plt"
   ]
  },
  {
   "cell_type": "markdown",
   "metadata": {},
   "source": [
    "**7.4:** Euler's Method.\n",
    "\n",
    "$$U^{n+1} = U^{n} + kf(U^n)$$\n",
    "\n",
    "Given the test problem $u' = \\lambda u$ we have\n",
    "\n",
    "$$U^{n+1} = (1+z)U^{n},$$\n",
    "\n",
    "where $z = k\\lambda$. So to be stable we need $|1+z|\\le 1$ which  is the closed disc of radius $1$ centered at $-1$.\n",
    "\n",
    "**Confirming with code.**\n",
    "\n",
    "We do a Monte-Carlo algorithm choosing values of $\\lambda$ in $[-3, 3]\\times [-3i, 3i].$ We always set $k$ to be $1$."
   ]
  },
  {
   "cell_type": "code",
   "execution_count": 61,
   "metadata": {},
   "outputs": [
    {
     "data": {
      "image/png": "[encoded data removed]",
      "text/plain": [
       "<Figure size 432x288 with 1 Axes>"
      ]
     },
     "metadata": {
      "needs_background": "light"
     },
     "output_type": "display_data"
    }
   ],
   "source": [
    "def test(f):\n",
    "    u = 1\n",
    "    error = 0.01\n",
    "    v = 1 + error\n",
    "    \n",
    "    for i in range(10): # 10 steps\n",
    "        u = u + f(u)\n",
    "        v = v + f(v)\n",
    "    return abs(u - v) <= error # Otherwise the error term is growing.\n",
    "\n",
    "stable = []\n",
    "unstable = []\n",
    "for i in range(10000):\n",
    "    l = np.random.random(2) @ [6, 6j] - (3 + 3j)\n",
    "    def f(u):\n",
    "        return l*u\n",
    "    if test(f):\n",
    "        stable.append(l)\n",
    "    else:\n",
    "        unstable.append(l)\n",
    "        \n",
    "sx = [s.real for s in stable]\n",
    "sy = [s.imag for s in stable]\n",
    "ux = [s.real for s in unstable]\n",
    "uy = [s.imag for s in unstable]\n",
    "        \n",
    "plt.scatter(sx, sy, color=\"black\")\n",
    "plt.scatter(ux, uy, color=\"white\")\n",
    "plt.xlim(-3, 3)\n",
    "plt.ylim(-3, 3)\n",
    "plt.gca().set_aspect('equal', adjustable='box')\n",
    "plt.show();"
   ]
  },
  {
   "cell_type": "markdown",
   "metadata": {},
   "source": [
    "**7.5:** Backward Euler\n",
    "\n",
    "This method is\n",
    "\n",
    "$$U^{n+1} = U^{n} + kf(U^{n+1}).$$\n",
    "\n",
    "We're using the test function $f = \\lambda u$ so we can solve directly for the next time step (rather than having to use Newton's method):\n",
    "\n",
    "$$U^{n+1} = U^{n} + k\\lambda U^{n+1}$$\n",
    "$$\\Longleftrightarrow$$\n",
    "$$U^{n+1} = (1-z)^{-1}U^{n}.$$\n",
    "\n",
    "This will be stable everywhere except the disc of radius $1$ centered at $1$.\n",
    "\n",
    "**Confirming with code.**"
   ]
  },
  {
   "cell_type": "code",
   "execution_count": 60,
   "metadata": {},
   "outputs": [
    {
     "data": {
      "image/png": "[encoded data removed]",
      "text/plain": [
       "<Figure size 432x288 with 1 Axes>"
      ]
     },
     "metadata": {
      "needs_background": "light"
     },
     "output_type": "display_data"
    }
   ],
   "source": [
    "def test(f):\n",
    "    u = 1\n",
    "    error = 0.01\n",
    "    v = 1 + error\n",
    "    \n",
    "    for i in range(10): # 10 steps\n",
    "        u = f(u)\n",
    "        v = f(v)\n",
    "    return abs(u - v) <= error # Otherwise the error term is growing.\n",
    "\n",
    "stable = []\n",
    "unstable = []\n",
    "for i in range(10000):\n",
    "    l = np.random.random(2) @ [6, 6j] - (3 + 3j)\n",
    "    def f(u):\n",
    "        return u/(1-l)\n",
    "    if test(f):\n",
    "        stable.append(l)\n",
    "    else:\n",
    "        unstable.append(l)\n",
    "        \n",
    "sx = [s.real for s in stable]\n",
    "sy = [s.imag for s in stable]\n",
    "ux = [s.real for s in unstable]\n",
    "uy = [s.imag for s in unstable]\n",
    "        \n",
    "plt.scatter(sx, sy, color=\"black\")\n",
    "plt.scatter(ux, uy, color=\"white\")\n",
    "plt.xlim(-3, 3)\n",
    "plt.ylim(-3, 3)\n",
    "plt.gca().set_aspect('equal', adjustable='box')\n",
    "plt.show();"
   ]
  },
  {
   "cell_type": "markdown",
   "metadata": {},
   "source": [
    "**7.6:** Trapezoidal method.\n",
    "\n",
    "This is\n",
    "\n",
    "$$U^{n+1} = U^{n} + \\frac{k}{2}\\left[f(U^{n}) + f(U^{n+1})\\right].$$\n",
    "\n",
    "Again we use $f = \\lambda u$. Directly solving for the next timestep gives\n",
    "\n",
    "$$U^{n+1} = U^{n} + \\frac{z}{2}\\left[U^{n}+U^{n+1}\\right]$$\n",
    "\n",
    "$$\\Longleftrightarrow$$\n",
    "\n",
    "$$U^{n+1} = \\frac{1+\\frac{z}{2}}{1-\\frac{z}{2}}U^n.$$\n",
    "\n",
    "This is stable when\n",
    "\n",
    "$$|2+z| \\le |2-z|$$\n",
    "\n",
    "i.e. $z$ has a negative real part.\n",
    "\n",
    "**Confirming with code.**"
   ]
  },
  {
   "cell_type": "code",
   "execution_count": 65,
   "metadata": {},
   "outputs": [
    {
     "data": {
      "image/png": "[encoded data removed]",
      "text/plain": [
       "<Figure size 432x288 with 1 Axes>"
      ]
     },
     "metadata": {
      "needs_background": "light"
     },
     "output_type": "display_data"
    }
   ],
   "source": [
    "def test(f):\n",
    "    u = 1\n",
    "    error = 0.01\n",
    "    v = 1 + error\n",
    "    \n",
    "    for i in range(10): # 10 steps\n",
    "        u = f(u)\n",
    "        v = f(v)\n",
    "    return abs(u - v) <= error # Otherwise the error term is growing.\n",
    "\n",
    "stable = []\n",
    "unstable = []\n",
    "for i in range(10000):\n",
    "    l = np.random.random(2) @ [6, 6j] - (3 + 3j)\n",
    "    def f(u):\n",
    "        return u*(2+l)/(2-l)\n",
    "    if test(f):\n",
    "        stable.append(l)\n",
    "    else:\n",
    "        unstable.append(l)\n",
    "        \n",
    "sx = [s.real for s in stable]\n",
    "sy = [s.imag for s in stable]\n",
    "ux = [s.real for s in unstable]\n",
    "uy = [s.imag for s in unstable]\n",
    "        \n",
    "plt.scatter(sx, sy, color=\"black\")\n",
    "plt.scatter(ux, uy, color=\"white\")\n",
    "plt.xlim(-3, 3)\n",
    "plt.ylim(-3, 3)\n",
    "plt.gca().set_aspect('equal', adjustable='box')\n",
    "plt.show();"
   ]
  }
 ],
 "metadata": {
  "kernelspec": {
   "display_name": "Python 3",
   "language": "python",
   "name": "python3"
  },
  "language_info": {
   "codemirror_mode": {
    "name": "ipython",
    "version": 3
   },
   "file_extension": ".py",
   "mimetype": "text/x-python",
   "name": "python",
   "nbconvert_exporter": "python",
   "pygments_lexer": "ipython3",
   "version": "3.7.4"
  }
 },
 "nbformat": 4,
 "nbformat_minor": 2
}
