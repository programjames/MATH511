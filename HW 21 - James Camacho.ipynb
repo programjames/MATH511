{
 "cells": [
  {
   "cell_type": "markdown",
   "metadata": {},
   "source": [
    "# HW 21\n",
    "## James Camacho\n",
    "\n",
    "**Task:** Write code that recreates Table 8.1 of the textbook. It is using the equation\n",
    "\n",
    "$$u'(t) = \\lambda(u-\\cos t)-\\sin t$$\n",
    "\n",
    "which has exact solution\n",
    "\n",
    "$$u(t) = e^{\\lambda(t-t_0)}(\\eta - \\cos(t_0)) + \\cos t.$$\n",
    "\n",
    "We're using $\\lambda = -10^6$ and going on the time interval $T\\in [0, 3]$.\n",
    "\n",
    "-----\n",
    "\n",
    "**Backward Euler Method**\n",
    "\n",
    "$$U^{n+1} = U^n + k\\lambda U^{n+1} - k\\lambda\\cos(t+k) - k\\sin(t+k)$$\n",
    "\n",
    "$$\\Longleftrightarrow$$\n",
    "\n",
    "$$U^{n+1} =\\frac{U^{n} - k(\\sin(t+k) + \\lambda\\cos(t+k))}{1-k\\lambda}$$\n",
    "\n",
    "\n",
    "**Trapezoidal Method**\n",
    "\n",
    "$$U^{n+1} = U^n + \\frac{k}{2}\\left[\\lambda U^n + \\lambda U^{n+1} - \\lambda(\\cos(t) + \\cos(t+k)) - \\sin(t) - \\sin(t+k)\\right]$$\n",
    "\n",
    "$$\\Longleftrightarrow$$\n",
    "\n",
    "$$U^{n+1} = \\frac{(2+k\\lambda)U^n - 2k\\cos\\left(\\frac{k}{2}\\right)\\left[\\sin\\left(t+\\frac{k}{2}\\right)+\\lambda\\cos\\left(t+\\frac{k}{2}\\right)\\right]}{2-k\\lambda}$$"
   ]
  },
  {
   "cell_type": "code",
   "execution_count": 35,
   "metadata": {},
   "outputs": [],
   "source": [
    "import math\n",
    "import pandas as pd\n",
    "from IPython.display import display, HTML\n",
    "import matplotlib.pyplot as plt\n",
    "\n",
    "l = -10**6\n",
    "def f(u, t):\n",
    "    return l*(u - math.cos(t)) - math.sin(t)\n",
    "\n",
    "def u_exact(u0, t):\n",
    "    return math.exp(l*t)*(u0 - 1) + math.cos(t)\n",
    "\n",
    "def euler(u, k):\n",
    "    # Backward Euler method.\n",
    "    t = 0\n",
    "    while t < 3:\n",
    "        t += k\n",
    "        u = (u - k*(math.sin(t) + l*math.cos(t))) / (1-k*l)\n",
    "    return u, t\n",
    "\n",
    "def all_euler(u, k):\n",
    "    # Backward Euler method.\n",
    "    t = 0\n",
    "    ts = [t]\n",
    "    us = [u]\n",
    "    while t < 3:\n",
    "        t += k\n",
    "        u = (u - k*(math.sin(t) + l*math.cos(t))) / (1-k*l)\n",
    "        ts.append(t)\n",
    "        us.append(u)\n",
    "    return us, ts\n",
    "\n",
    "def trapezoid(u, k):\n",
    "    # Trapezoidal method.\n",
    "    t = 0\n",
    "    kcos = -2*k*math.cos(k/2)\n",
    "    while t < 3:\n",
    "        t += k/2\n",
    "        u = ((2+k*l)*u + kcos*(math.sin(t)+l*math.cos(t)))/(2-k*l)\n",
    "        t += k/2\n",
    "    return u, t"
   ]
  },
  {
   "cell_type": "code",
   "execution_count": 36,
   "metadata": {},
   "outputs": [
    {
     "data": {
      "image/png": "[encoded data removed]",
      "text/plain": [
       "<Figure size 432x288 with 1 Axes>"
      ]
     },
     "metadata": {
      "needs_background": "light"
     },
     "output_type": "display_data"
    }
   ],
   "source": [
    "u0 = 1\n",
    "\n",
    "us, ts = all_euler(u0, 0.01)\n",
    "plt.plot(ts, us)\n",
    "plt.title(\"u(t) (Euler method, Case 1)\")\n",
    "plt.show()"
   ]
  },
  {
   "cell_type": "code",
   "execution_count": 37,
   "metadata": {},
   "outputs": [
    {
     "data": {
      "text/html": [
       "<div>\n",
       "<style scoped>\n",
       "    .dataframe tbody tr th:only-of-type {\n",
       "        vertical-align: middle;\n",
       "    }\n",
       "\n",
       "    .dataframe tbody tr th {\n",
       "        vertical-align: top;\n",
       "    }\n",
       "\n",
       "    .dataframe thead th {\n",
       "        text-align: right;\n",
       "    }\n",
       "</style>\n",
       "<table border=\"1\" class=\"dataframe\">\n",
       "  <thead>\n",
       "    <tr style=\"text-align: right;\">\n",
       "      <th></th>\n",
       "      <th>Backward Euler</th>\n",
       "      <th>Trapezoidal</th>\n",
       "    </tr>\n",
       "  </thead>\n",
       "  <tbody>\n",
       "    <tr>\n",
       "      <th>0.5</th>\n",
       "      <td>2.365776e-07</td>\n",
       "      <td>3.015452e-09</td>\n",
       "    </tr>\n",
       "    <tr>\n",
       "      <th>0.2</th>\n",
       "      <td>9.773074e-08</td>\n",
       "      <td>4.722897e-10</td>\n",
       "    </tr>\n",
       "    <tr>\n",
       "      <th>0.1</th>\n",
       "      <td>4.922330e-08</td>\n",
       "      <td>3.468570e-11</td>\n",
       "    </tr>\n",
       "  </tbody>\n",
       "</table>\n",
       "</div>"
      ],
      "text/plain": [
       "     Backward Euler   Trapezoidal\n",
       "0.5    2.365776e-07  3.015452e-09\n",
       "0.2    9.773074e-08  4.722897e-10\n",
       "0.1    4.922330e-08  3.468570e-11"
      ]
     },
     "metadata": {},
     "output_type": "display_data"
    }
   ],
   "source": [
    "ks = [0.5, 0.2, 0.1]\n",
    "eulers = []\n",
    "traps = []\n",
    "for k in ks:\n",
    "    u, t = euler(u0, k)\n",
    "    eulers.append(abs(u - u_exact(u0, t)))\n",
    "    u, t = trapezoid(u0, k)\n",
    "    traps.append(abs(u - u_exact(u0, t)))\n",
    "data = {\"Backward Euler\": eulers, \"Trapezoidal\": traps}\n",
    "df = pd.DataFrame(data, index=ks)\n",
    "display(df)"
   ]
  },
  {
   "cell_type": "code",
   "execution_count": 38,
   "metadata": {},
   "outputs": [
    {
     "data": {
      "image/png": "[encoded data removed]",
      "text/plain": [
       "<Figure size 432x288 with 1 Axes>"
      ]
     },
     "metadata": {
      "needs_background": "light"
     },
     "output_type": "display_data"
    }
   ],
   "source": [
    "u0 = 1.5\n",
    "\n",
    "us, ts = all_euler(u0, 0.01)\n",
    "plt.plot(ts, us)\n",
    "plt.title(\"u(t) (Euler method, Case 2)\")\n",
    "plt.show()"
   ]
  },
  {
   "cell_type": "code",
   "execution_count": 39,
   "metadata": {},
   "outputs": [
    {
     "data": {
      "text/html": [
       "<div>\n",
       "<style scoped>\n",
       "    .dataframe tbody tr th:only-of-type {\n",
       "        vertical-align: middle;\n",
       "    }\n",
       "\n",
       "    .dataframe tbody tr th {\n",
       "        vertical-align: top;\n",
       "    }\n",
       "\n",
       "    .dataframe thead th {\n",
       "        text-align: right;\n",
       "    }\n",
       "</style>\n",
       "<table border=\"1\" class=\"dataframe\">\n",
       "  <thead>\n",
       "    <tr style=\"text-align: right;\">\n",
       "      <th></th>\n",
       "      <th>Backward Euler</th>\n",
       "      <th>Trapezoidal</th>\n",
       "    </tr>\n",
       "  </thead>\n",
       "  <tbody>\n",
       "    <tr>\n",
       "      <th>0.5</th>\n",
       "      <td>2.365776e-07</td>\n",
       "      <td>0.499976</td>\n",
       "    </tr>\n",
       "    <tr>\n",
       "      <th>0.2</th>\n",
       "      <td>9.773074e-08</td>\n",
       "      <td>0.499850</td>\n",
       "    </tr>\n",
       "    <tr>\n",
       "      <th>0.1</th>\n",
       "      <td>4.922330e-08</td>\n",
       "      <td>0.499380</td>\n",
       "    </tr>\n",
       "  </tbody>\n",
       "</table>\n",
       "</div>"
      ],
      "text/plain": [
       "     Backward Euler  Trapezoidal\n",
       "0.5    2.365776e-07     0.499976\n",
       "0.2    9.773074e-08     0.499850\n",
       "0.1    4.922330e-08     0.499380"
      ]
     },
     "metadata": {},
     "output_type": "display_data"
    }
   ],
   "source": [
    "eulers = []\n",
    "traps = []\n",
    "for k in ks:\n",
    "    u, t = euler(u0, k)\n",
    "    eulers.append(abs(u - u_exact(u0, t)))\n",
    "    u, t = trapezoid(u0, k)\n",
    "    traps.append(abs(u - u_exact(u0, t)))\n",
    "data = {\"Backward Euler\": eulers, \"Trapezoidal\": traps}\n",
    "df = pd.DataFrame(data, index=ks)\n",
    "display(df)"
   ]
  }
 ],
 "metadata": {
  "kernelspec": {
   "display_name": "Python 3",
   "language": "python",
   "name": "python3"
  },
  "language_info": {
   "codemirror_mode": {
    "name": "ipython",
    "version": 3
   },
   "file_extension": ".py",
   "mimetype": "text/x-python",
   "name": "python",
   "nbconvert_exporter": "python",
   "pygments_lexer": "ipython3",
   "version": "3.7.4"
  }
 },
 "nbformat": 4,
 "nbformat_minor": 2
}
