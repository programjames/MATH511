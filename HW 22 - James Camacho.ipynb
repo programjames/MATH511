{
 "cells": [
  {
   "cell_type": "markdown",
   "metadata": {},
   "source": [
    "# HW 22\n",
    "## James Camacho\n",
    "\n",
    "### Runge-Kutta Method\n",
    "\n",
    "We have the one-step implicit method\n",
    "\n",
    "$$U^* = U^n + \\frac{k}{2}f\\left(U^*, t_n+\\frac{k}{2}\\right),$$\n",
    "\n",
    "$$U^{n+1} = U^n + kf\\left(U^*, t_n + \\frac{k}{2}\\right).$$\n",
    "\n",
    "This is equivalent to the following two-step method:\n",
    "\n",
    "$$V^{n+2} - V^{n} = 2hf(V^{n+1}, t_{n+1}).$$\n",
    "\n",
    "where $2h = k$.\n",
    "\n",
    "### (1) - Order of Accuracy\n",
    "\n",
    "Notice it is equivalent to a backwards Euler followed by a forwards Euler. We would expect the two to cancel out to give one extra degree of accuracy. This is what we find:\n",
    "\n",
    "We have $\\alpha = (-1, 0, 1); \\beta = (0, 2, 0)$. It's consistent as $\\sum_{j=0}^2 \\alpha_j = 0.$ We also have\n",
    "\n",
    "$$\\sum_{j=0}^2 j^1\\alpha_j = 2 = 1\\cdot \\sum_{j=0}^2 j^0\\beta_j,$$\n",
    "\n",
    "$$\\sum_{j=0}^2 j^2\\alpha_j = 4 = 2\\cdot \\sum_{j=0}^2 j^1\\beta_j,$$\n",
    "\n",
    "$$\\sum_{j=0}^2 j^3\\alpha_j = 8 \\ne 6 = 3\\cdot \\sum_{j=0}^3 j^2\\beta_j.$$\n",
    "\n",
    "So it is second-order accurate."
   ]
  },
  {
   "cell_type": "markdown",
   "metadata": {},
   "source": [
    "### (2) - Stability Region\n",
    "\n",
    "We use the test function $u' = \\lambda u.$ Let $z = k\\lambda.$ Then\n",
    "\n",
    "$$U^* = U^{n} + \\frac{z}{2}U^*\\Longleftrightarrow U^* = \\frac{2}{2-z}U^{n}$$\n",
    "\n",
    "$$U^{n+1} = U^{n} + zU^* = \\frac{2+z}{2-z}U^n.$$\n",
    "\n",
    "(Notice that the first few terms of it's Taylor series are $1+z+\\frac{z^2}{2}+\\frac{z^3}{4}$ so it agrees with $e^z$ up to order $2$, another way to see it's second-order accurate.)\n",
    "\n",
    "It's stable whenever $|2+z| \\le |2-z|$ i.e. the LHS of the complex plane."
   ]
  },
  {
   "cell_type": "code",
   "execution_count": 12,
   "metadata": {},
   "outputs": [
    {
     "data": {
      "image/png": "[encoded data removed]",
      "text/plain": [
       "<Figure size 432x288 with 1 Axes>"
      ]
     },
     "metadata": {
      "needs_background": "light"
     },
     "output_type": "display_data"
    }
   ],
   "source": [
    "import matplotlib.pyplot as plt\n",
    "\n",
    "c = plt.Rectangle((-3, -3), 3, 6, color='black')\n",
    "plt.gca().add_patch(c)\n",
    "plt.xlim(-3, 3)\n",
    "plt.ylim(-3, 3)\n",
    "plt.gca().set_aspect('equal')\n",
    "plt.show();"
   ]
  },
  {
   "cell_type": "markdown",
   "metadata": {},
   "source": [
    "### (3) - A/L-stable?\n",
    "\n",
    "By definition it is A-stable, as the stability region is the entire left hand of the complex plane. It is not L-stable as\n",
    "\n",
    "$$\\lim_{z\\to\\infty} \\left|\\frac{2+z}{2-z}\\right| = 1\\ne 0.$$"
   ]
  }
 ],
 "metadata": {
  "kernelspec": {
   "display_name": "Python 3",
   "language": "python",
   "name": "python3"
  },
  "language_info": {
   "codemirror_mode": {
    "name": "ipython",
    "version": 3
   },
   "file_extension": ".py",
   "mimetype": "text/x-python",
   "name": "python",
   "nbconvert_exporter": "python",
   "pygments_lexer": "ipython3",
   "version": "3.7.4"
  }
 },
 "nbformat": 4,
 "nbformat_minor": 2
}
