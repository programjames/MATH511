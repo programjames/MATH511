{
 "cells": [
  {
   "cell_type": "markdown",
   "metadata": {},
   "source": [
    "# HW 23\n",
    "## James Camacho\n",
    "\n",
    "The Crank-Nicolson Method is\n",
    "\n",
    "$$\\frac{U^{n+1}_i - U^n_i}{k} = \\frac{1}{2h^2}\\left[\\left(U^{n+1}_{i+1}-2U^{n+1}_i+U^{n+1}_{i-1}\\right)+\\left(U^{n}_{i+1}-2U^{n}_i+U^{n}_{i-1}\\right)\\right]$$\n",
    "\n",
    "which arises by mixing the forward- and backward-Euler methods together. Our task is to find its local truncation error $\\tau.$\n",
    "\n",
    "It's simpler if we modify the indices so it looks like\n",
    "\n",
    "$$\\frac{U^{n+1}_i - U^{n-1}_i}{k} = \\frac{1}{h^2}\\left[\\left(U^{n+1}_{i+1}-2U^{n+1}_i+U^{n+1}_{i-1}\\right)+\\left(U^{n-1}_{i+1}-2U^{n-1}_i+U^{n-1}_{i-1}\\right)\\right].$$\n",
    "\n",
    "Which is equal to the sum of these two equations:\n",
    "\n",
    "$$\\begin{align*}\n",
    "\\frac{U^{n+1}_i - U^{n}_i}{k} &= \\frac{1}{h^2}\\left[U^{n+1}_{i+1}-2U^{n+1}_i+U^{n+1}_{i-1}\\right]\\\\\n",
    "&+\\\\\n",
    "\\frac{U^{n}_i - U^{n-1}_i}{k} &= \\frac{1}{h^2}\\left[U^{n-1}_{i+1}-2U^{n-1}_i+U^{n-1}_{i-1}\\right]\\\\\n",
    "\\end{align*}$$\n",
    "\n",
    "If we plug in the true solution to the top equation we get\n",
    "\n",
    "$$\\frac{\\partial}{\\partial t}u(x_i, t_n) + \\frac{k\\partial^2}{2\\partial t^2}u(x_i, t_n) + O(k^2) = \\frac{\\partial^2}{\\partial x^2}u(x_i, t_n) + O(h^2).$$\n",
    "\n",
    "Recall that\n",
    "\n",
    "$$\\frac{\\partial}{\\partial t}u(x_i, t_n) = \\frac{\\partial^2}{\\partial x^2}u(x_i, t_n),$$\n",
    "\n",
    "so what remains is\n",
    "\n",
    "$$\\frac{k\\partial^2}{2\\partial t^2}u(x_i, t_n) + O(k^2) = O(h^2).$$\n",
    "\n",
    "Plugging into the bottom equation ends up giving\n",
    "\n",
    "$$-\\frac{k\\partial^2}{2\\partial t^2}u(x_i, t_n) + O(k^2) = O(h^2).$$\n",
    "\n",
    "Adding together makes the $O(k)$ term cancel, so we're left with only an $O(k^2)$ and $O(h^2)$ term. Therefore, the local truncation error is $O(k^2 + h^2).$"
   ]
  }
 ],
 "metadata": {
  "kernelspec": {
   "display_name": "Python 3",
   "language": "python",
   "name": "python3"
  },
  "language_info": {
   "codemirror_mode": {
    "name": "ipython",
    "version": 3
   },
   "file_extension": ".py",
   "mimetype": "text/x-python",
   "name": "python",
   "nbconvert_exporter": "python",
   "pygments_lexer": "ipython3",
   "version": "3.7.4"
  }
 },
 "nbformat": 4,
 "nbformat_minor": 2
}
