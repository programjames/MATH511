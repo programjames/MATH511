{
 "cells": [
  {
   "cell_type": "markdown",
   "metadata": {},
   "source": [
    "# HW 25\n",
    "## James Camacho\n",
    "\n",
    "We want to solve the PDE\n",
    "\n",
    "$$u_t = \\kappa u_{xx}-\\gamma u$$\n",
    "\n",
    "have a method of the form\n",
    "\n",
    "$$\\frac{U^{n+1}_j-U^n_j}{k} = \\frac{\\kappa}{2h^2}\\left[U^n_{j-1}-2U^n_j+U^n_{j+1}+U^{n+1}_{j-1}-2U^{n+1}_j+U^{n+1}_{j+1}\\right]-\\gamma\\left[(1-\\theta)U^n_j+\\theta U^{n+1}_j\\right]$$\n",
    "\n",
    "where $\\theta$ is some parameter in $[0, 1]$. If $\\theta = 1/2$ then it's basically the Crank-Nicolsen method."
   ]
  },
  {
   "cell_type": "markdown",
   "metadata": {},
   "source": [
    "**1.** Recall that\n",
    "\n",
    "$$u(x_j, t_n+k) = u + ku_t + \\frac{k^2}{2}u_{tt}+O(k^3),$$\n",
    "\n",
    "$$u(x_j\\pm h, t_n) = u \\pm hu_x + \\frac{h^2}{2}u_{xx} \\pm \\frac{h^3}{6}u_{xxx} + \\frac{h^4}{24}u_{xxxx} + O(h^5),$$\n",
    "\n",
    "where $u$ is assumed to mean $u(x_j, t_n)$.\n",
    "\n",
    "Plugging the true solution into the above method gives\n",
    "\n",
    "$$\\frac{u^{n+1}_j - u^n_j}{k} = u_t + \\frac{k}{2}u_{tt} + O(k^2),\\qquad(1)$$\n",
    "\n",
    "$$\\frac{u^n_{j-1}-2u^n_j+u^n_{j+1}}{h^2} = u_{xx}+\\frac{h^2}{12}u_{xxxx}+O(h^4),$$\n",
    "\n",
    "so\n",
    "\n",
    "$$\\frac{1}{2h^2}\\left[u^n_{j-1}-2u^n_j+u^n_{j+1}+u^{n+1}_{j-1}-2u^{n+1}_j+u^{n+1}_{j+1}\\right] = u_{xx}+\\frac{h^2}{12}u_{xxxx}+\\frac{k}{2}u_{xxt}+O(h^4)+O(h^2k^2). \\qquad (2)$$\n",
    "\n",
    "Finally,\n",
    "\n",
    "$$(1-\\theta)u^n_j + \\theta u^{n+1}_j = u + k\\theta u_t + O(k^2).\\qquad (3)$$\n",
    "\n",
    "The local truncation error is $(1) - \\kappa\\cdot (2) + \\gamma\\cdot (3)$. Notice that $\\kappa u_{xx} = u_t + \\gamma u$, so we have (within $\\kappa \\cdot (2)$)\n",
    "\n",
    "$$\\kappa\\cdot \\frac{k}{2}u_{xxt} = \\frac{k}{2}(u_{tt} + \\gamma u_t).$$"
   ]
  },
  {
   "cell_type": "markdown",
   "metadata": {},
   "source": [
    "Now plugging and chugging, we find\n",
    "\n",
    "$$\n",
    "\\begin{align*}\n",
    "(1) - \\kappa \\cdot (2) + \\gamma\\cdot (3) &= u_t + \\frac{k}{2}u_{tt} - \\kappa u_{xx} - \\kappa\\cdot\\frac{h^2}{12}u_{x^4} - \\frac{k}{2}(u_{tt}+\\gamma u_t) + \\gamma u + \\gamma k\\theta u_t + O(k^2+h^4)\\\\\n",
    "&= (u_t + \\gamma u - \\kappa u_{xx}) - \\kappa\\cdot \\frac{h^2}{12}u_{x^4} + \\gamma k\\left(\\theta - \\frac12\\right) u_t + O(k^2+h^4)\\\\\n",
    "&= k\\gamma\\left(\\theta - \\frac12\\right) u_t + O(h^2+k^2).\n",
    "\\end{align*}\n",
    "$$\n",
    "\n",
    "When $\\theta = \\frac12$ the first term disappears so the method is $O(h^2+k^2)$. Otherwise, we only get $O(h^2+k)$."
   ]
  },
  {
   "cell_type": "markdown",
   "metadata": {},
   "source": [
    "$$\\frac{U^{n+1}_j-U^n_j}{k} = \\frac{\\kappa}{2h^2}\\left[U^n_{j-1}-2U^n_j+U^n_{j+1}+U^{n+1}_{j-1}-2U^{n+1}_j+U^{n+1}_{j+1}\\right]-\\gamma\\left[(1-\\theta)U^n_j+\\theta U^{n+1}_j\\right]$$"
   ]
  },
  {
   "cell_type": "markdown",
   "metadata": {},
   "source": [
    "-----\n",
    "\n",
    "**2.** Let's assume that we can write the solution as\n",
    "\n",
    "$$U^n_j = \\sum_{\\xi=-\\infty}^{\\infty} g_{\\xi}^n e^{ij\\xi}.$$\n",
    "\n",
    "Let's look at one particular $\\xi$:\n",
    "\n",
    "$$U^n_j = g^n e^{ij\\xi}.$$\n",
    "\n",
    "Plugging into our method and dividing by $g^ne^{ij\\xi}$, we get\n",
    "\n",
    "$$\\frac{g-1}{k} = \\frac{\\kappa}{2h^2}\\cdot(1+g)\\left(e^{-i\\xi}-2+e^{i\\xi}\\right) - \\gamma[1-\\theta + g\\theta]$$"
   ]
  },
  {
   "cell_type": "markdown",
   "metadata": {},
   "source": [
    "Let $r = \\frac{k\\kappa}{2h^2}$. Rearranging a little gives\n",
    "\n",
    "$$g = 1 - 2r(1+g)(1-\\cos\\xi) - k\\gamma + k\\gamma\\theta - k\\gamma\\theta g.$$\n",
    "\n",
    "Rearranging some more gives\n",
    "\n",
    "$$g(1+2r(1-\\cos\\xi) + k\\gamma\\theta) = 1-2r(1-\\cos\\xi)+k\\gamma-k\\gamma\\theta$$\n",
    "\n",
    "$$\\Longleftrightarrow$$\n",
    "\n",
    "$$g = \\frac{1-2r(1-\\cos\\xi)+k\\gamma\\theta - k\\gamma}{1+2r(1-\\cos\\xi) + k\\gamma\\theta} = 1 - \\frac{4r(1-\\cos\\xi) + k\\gamma}{1+2r(1-\\cos\\xi) + k\\gamma\\theta}.$$\n",
    "\n",
    "We need $-1\\le -g\\le 1$ or\n",
    "\n",
    "$$0\\le \\frac{4r(1-\\cos\\xi) + k\\gamma}{1+2r(1-\\cos\\xi) + k\\gamma\\theta}\\le 2$$\n",
    "\n",
    "Note that the numerator and denominators are both positive, so the left condition is always true. The right condition becomes\n",
    "\n",
    "$$4r(1-cos\\xi)+k\\gamma \\le 2 + 4r(1-\\cos\\xi) + 2k\\gamma\\theta$$\n",
    "\n",
    "$$\\Longleftrightarrow$$\n",
    "\n",
    "$$k\\gamma(1-2\\theta)\\le 2.$$\n",
    "\n",
    "The LHS is nonpositive whenever $\\theta\\ge \\frac12$, and the RHS is nonnegative, so this method is unconditionally stable if $\\theta \\ge \\frac12.$"
   ]
  },
  {
   "cell_type": "markdown",
   "metadata": {},
   "source": [
    "-----\n",
    "\n",
    "**3.** We have\n",
    "\n",
    "$$g = \\frac{1-2r(1-\\cos\\xi)+k\\gamma\\theta - k\\gamma}{1+2r(1-\\cos\\xi) + k\\gamma\\theta}.$$\n",
    "\n",
    "Let $z = 2r(1-\\cos\\xi)$ which is strictly positive. When $\\theta = 0$ we're left with\n",
    "\n",
    "$$g = \\frac{1-z-k\\gamma}{1+z}.$$\n",
    "\n",
    "If $k\\gamma \\le 2$, then $-1\\le 1-k\\gamma\\le 1$ (as $k, \\gamma \\ge 0$), so\n",
    "\n",
    "$$|1-z-k\\gamma| \\le |-z| + |1-k\\gamma| \\le 1 + z,$$\n",
    "\n",
    "so $g\\le \\frac{1+z}{1+z} = 1$. The method is stable provided $k\\le \\frac{2}{\\gamma}.$"
   ]
  }
 ],
 "metadata": {
  "kernelspec": {
   "display_name": "Python 3",
   "language": "python",
   "name": "python3"
  },
  "language_info": {
   "codemirror_mode": {
    "name": "ipython",
    "version": 3
   },
   "file_extension": ".py",
   "mimetype": "text/x-python",
   "name": "python",
   "nbconvert_exporter": "python",
   "pygments_lexer": "ipython3",
   "version": "3.7.4"
  }
 },
 "nbformat": 4,
 "nbformat_minor": 2
}
