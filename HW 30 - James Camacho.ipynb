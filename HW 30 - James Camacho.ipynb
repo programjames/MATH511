{
 "cells": [
  {
   "cell_type": "markdown",
   "metadata": {},
   "source": [
    "# HW 30\n",
    "## James Camacho\n",
    "\n",
    "### 1.\n",
    "Use a quadratic interpolant on the nodes $(x_{j-1}, t_n); (x_{j}, t_n); (x_{j+1}, t_n)$ to find a method for the PDE $u_t + au_{x} = 0$."
   ]
  },
  {
   "cell_type": "markdown",
   "metadata": {},
   "source": [
    "The true solution is\n",
    "\n",
    "$$u(x, t) = u(x-at, 0).$$\n",
    "\n",
    "We want to find $u_(x_j, t_n + k) = u_(x_j - ak, t_n)$ in terms of the above three nodes. To simplify notation, assume we have $x_j = 0, t_n = 0, x_j - x_{j-1} = x_{j+1}-x_j = 1$ and we'll only look at the $x$ variable as $t_n$ is constant. Interpolating through $x=-1, 0, 1$ gives a quadratic. We can find it with the *method of differencing* which is a name I just completely made up.\n",
    "\n",
    "|||||||\n",
    "|--------|-------|------------|:----------------:|-----------|------|\n",
    "| **0!** | u(-1) |            | u(0)             |           | u(1) |\n",
    "| **1!** |       | u(0)-u(-1) |                  | u(1)-u(0) |      |\n",
    "| **2!** |       |            | u(-1)-2u(0)+u(1) |           |      |\n",
    "\n",
    "The coefficient of $x^2$ is\n",
    "$$\\frac{u(-1)-2u(0)+u(1)}{2!}.$$\n",
    "\n",
    "We subtract this off from each term and do the same to find the coefficient of $x$.\n",
    "\n",
    "$$u(0)-\\frac{u(-1)-2u(0)+u(1)}{2}\\cdot 0^2 \\qquad u(1) - \\frac{u(-1)-2u(0)+u(1)}{2}\\cdot 1^2$$\n",
    "$$\\frac{u(1) - u(-1)}{2}$$\n",
    "\n",
    "so the coefficient of $x$ is $\\frac{u(1) - u(-1)}{2}.$ Finally, the constant coefficient is $u(0)$. The interpolating quadratic is\n",
    "\n",
    "$$u(x) \\approx \\frac{u(1) - 2u(0) + u(-1)}{2}x^2 + \\frac{u(1) - u(-1)}{2}x + u(0).$$"
   ]
  },
  {
   "cell_type": "markdown",
   "metadata": {},
   "source": [
    "So we have\n",
    "\n",
    "$$U^{n+1}_j = u(-ak/h) \\approx U^n_j - \\nu\\left[3U^n_{j+1} - 4U^n_{j}+U^n_{j-1}\\right] + 2\\nu^2\\left[U^n_{j+1} - 2U^n_j + U^n_{j-1}\\right]$$\n",
    "\n",
    "where $\\nu = \\frac{ak}{2h}.$ Note that this is the Lax-Wendroff method."
   ]
  },
  {
   "cell_type": "markdown",
   "metadata": {},
   "source": [
    "### 2.\n",
    "\n",
    "We want $-1 \\le -ak/h\\le 1$, or equivalently $\\left\\lvert\\frac{ak}{h}\\right\\rvert\\le 1.$"
   ]
  }
 ],
 "metadata": {
  "kernelspec": {
   "display_name": "Python 3",
   "language": "python",
   "name": "python3"
  },
  "language_info": {
   "codemirror_mode": {
    "name": "ipython",
    "version": 3
   },
   "file_extension": ".py",
   "mimetype": "text/x-python",
   "name": "python",
   "nbconvert_exporter": "python",
   "pygments_lexer": "ipython3",
   "version": "3.7.4"
  }
 },
 "nbformat": 4,
 "nbformat_minor": 2
}
