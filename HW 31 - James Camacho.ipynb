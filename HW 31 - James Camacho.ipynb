{
 "cells": [
  {
   "cell_type": "markdown",
   "metadata": {},
   "source": [
    "# HW 31\n",
    "## James Camacho\n",
    "\n",
    "**Task: Verify Example 10.9.**\n",
    "\n",
    "Consider the upwind method for $a>0$:\n",
    "\n",
    "$$U^{n+1}_j = U^n_j - \\frac{ak}{h}\\left(U^n_j - U^n_{j-1}\\right).$$\n",
    "\n",
    "We want to verify that it is first-order accurate for the equation $u_t+au_x = 0$ and second-order accurate for the equation $u_t + au_x = \\frac{1}{2}ah\\left(1-\\frac{ak}{h}\\right)u_{xx}.$"
   ]
  },
  {
   "cell_type": "markdown",
   "metadata": {},
   "source": [
    "We verify it is first-order accurate for $u_t+au_x = 0$ using the equation $u(x, t) = \\sin(x - at)$."
   ]
  },
  {
   "cell_type": "code",
   "execution_count": 79,
   "metadata": {},
   "outputs": [],
   "source": [
    "import numpy as np\n",
    "import matplotlib.pyplot as plt\n",
    "\n",
    "a = 2\n",
    "def true_u(x, t):\n",
    "    return np.sin(x - a*t)\n",
    "\n",
    "def upwind(u, x, h, k=0.01):\n",
    "    t = 0\n",
    "    while t < 1:\n",
    "        left = true_u(x[0] - h, t)\n",
    "        u = u - a*k/h * (u - np.concatenate([[left], u[:-1]]))\n",
    "        t += k\n",
    "    return u, t"
   ]
  },
  {
   "cell_type": "code",
   "execution_count": 80,
   "metadata": {},
   "outputs": [
    {
     "name": "stdout",
     "output_type": "stream",
     "text": [
      "[0.1344476377240269, 0.06457546598084729, 0.025557905956121396, 0.012708400411955756, 0.006333625895006079]\n"
     ]
    }
   ],
   "source": [
    "ks = []\n",
    "es = []\n",
    "for k in [0.1, 0.05, 0.02, 0.01, 0.005]:\n",
    "    h = 5*k\n",
    "    x = np.arange(int(1/h)) * h\n",
    "    u = true_u(x, 0)\n",
    "    u, t = upwind(u, x, h, k)\n",
    "    ks.append(k)\n",
    "    es.append(np.linalg.norm(u-true_u(x, t), ord=np.inf))\n",
    "print(es)"
   ]
  },
  {
   "cell_type": "code",
   "execution_count": 81,
   "metadata": {},
   "outputs": [
    {
     "name": "stdout",
     "output_type": "stream",
     "text": [
      "Order:\n",
      "[1.05798635 1.01156524 1.00798718 1.00467889]\n"
     ]
    },
    {
     "data": {
      "image/png": "[encoded data removed]",
      "text/plain": [
       "<Figure size 432x288 with 1 Axes>"
      ]
     },
     "metadata": {
      "needs_background": "light"
     },
     "output_type": "display_data"
    }
   ],
   "source": [
    "plt.title(\"Log-log plot.\")\n",
    "plt.xlabel(\"k\")\n",
    "plt.ylabel(\"error\")\n",
    "plt.plot(np.log(ks), np.log(es))\n",
    "log_e = np.log(es)\n",
    "log_k = np.log(ks)\n",
    "print(\"Order:\")\n",
    "print((log_e[1:] - log_e[:-1]) / (log_k[1:] - log_k[:-1]))"
   ]
  },
  {
   "cell_type": "markdown",
   "metadata": {},
   "source": [
    "We verify it is second-order accurate for $v_t + av_x = \\frac12ah\\left(1-\\frac{ak}{h}\\right)v_{xx}$ using the equation $v(x, t) = e^{-\\nu t}\\left[\\sin(x - at) + \\cos(x-at)\\right]$ where $\\nu = \\frac12ah\\left(1-\\frac{ak}{h}\\right).$ Note that we have\n",
    "\n",
    "$$v_t = e^{-\\nu t}\\left[(a-\\nu)\\sin(x-at) - (a+\\nu)\\cos(x-at)\\right],$$\n",
    "\n",
    "$$av_x = e^{-\\nu t}\\left[-a\\sin(x-at) + a\\cos(x-at)\\right],$$\n",
    "\n",
    "so $v_t + av_x = -\\nu v,$ and obviously $\\nu v_{xx} = -\\nu v,$ so this is a true solution."
   ]
  },
  {
   "cell_type": "code",
   "execution_count": 82,
   "metadata": {},
   "outputs": [],
   "source": [
    "a = 2\n",
    "def true_v(x, t, h, k):\n",
    "    nu = 0.5 * a * h * (1 - a*k/h)\n",
    "    return np.exp(-nu*t) * (np.sin(x-a*t) + np.cos(x-a*t))\n",
    "\n",
    "def upwind(u, x, h, k=0.01):\n",
    "    t = 0\n",
    "    while t < 1:\n",
    "        left = true_v(x[0] - h, t, h, k)\n",
    "        u = u - a*k/h * (u - np.concatenate([[left], u[:-1]]))\n",
    "        t += k\n",
    "    return u, t"
   ]
  },
  {
   "cell_type": "code",
   "execution_count": 83,
   "metadata": {},
   "outputs": [
    {
     "name": "stdout",
     "output_type": "stream",
     "text": [
      "[0.001014870320166672, 0.0002648583137434546, 4.3472957239609755e-05, 1.0960873517595893e-05, 2.7512512605354367e-06]\n"
     ]
    }
   ],
   "source": [
    "ks = []\n",
    "es = []\n",
    "\n",
    "for k in [0.01, 0.005, 0.002, 0.001, 0.0005]:\n",
    "    h = 5*a*k\n",
    "    x = np.arange(int(1/h)) * h\n",
    "    u = true_v(x, 0, h, k)\n",
    "    u, t = upwind(u, x, h, k)\n",
    "    ks.append(k)\n",
    "    es.append(np.linalg.norm(u-true_v(x, t, h, k), ord=np.inf))\n",
    "print(es)"
   ]
  },
  {
   "cell_type": "code",
   "execution_count": 84,
   "metadata": {},
   "outputs": [
    {
     "name": "stdout",
     "output_type": "stream",
     "text": [
      "Order:\n",
      "[1.93800269 1.97214256 1.98775546 1.99420297]\n"
     ]
    },
    {
     "data": {
      "image/png": "[encoded data removed]",
      "text/plain": [
       "<Figure size 432x288 with 1 Axes>"
      ]
     },
     "metadata": {
      "needs_background": "light"
     },
     "output_type": "display_data"
    }
   ],
   "source": [
    "plt.title(\"Log-log plot.\")\n",
    "plt.xlabel(\"k\")\n",
    "plt.ylabel(\"error\")\n",
    "plt.plot(np.log(ks), np.log(es))\n",
    "log_e = np.log(es)\n",
    "log_k = np.log(ks)\n",
    "print(\"Order:\")\n",
    "print((log_e[1:] - log_e[:-1]) / (log_k[1:] - log_k[:-1]))"
   ]
  }
 ],
 "metadata": {
  "kernelspec": {
   "display_name": "Python 3",
   "language": "python",
   "name": "python3"
  },
  "language_info": {
   "codemirror_mode": {
    "name": "ipython",
    "version": 3
   },
   "file_extension": ".py",
   "mimetype": "text/x-python",
   "name": "python",
   "nbconvert_exporter": "python",
   "pygments_lexer": "ipython3",
   "version": "3.7.4"
  }
 },
 "nbformat": 4,
 "nbformat_minor": 2
}
