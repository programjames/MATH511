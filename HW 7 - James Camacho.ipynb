{
 "cells": [
  {
   "cell_type": "markdown",
   "metadata": {},
   "source": [
    "# HW 7—James Camacho\n",
    "\n",
    "Consider the boundary value problem,\n",
    "\n",
    "$$\\epsilon u'' + 2u'u = 0, u(0) = \\alpha, u(1) = \\beta$$\n",
    "\n",
    "For this system, carry out the analysis of section 2.17.1 to determine for which values of $\\alpha$\n",
    "and $\\beta$ there is an interior layer. What is $\\bar{x}$ for the interior layer?"
   ]
  },
  {
   "cell_type": "markdown",
   "metadata": {},
   "source": [
    "-----\n",
    "As $\\epsilon\\to 0$, the differential equation becomes $2u'u = 0\\Longleftrightarrow (u^2)' = 0$, so $u$ is constant. If we take the left boundary condition, we get $u=\\alpha$, and if we take the right boundary condition we get $u = \\beta$. Of course, when $\\alpha\\ne\\beta$ we can't have both, we need some intermediate layer.\n",
    "\n",
    "Let $u(x) = W\\left(\\frac{x-\\bar{x}}{\\epsilon^k}\\right)$, and $x = \\xi\\cdot \\epsilon^k + \\bar{x}$ so that\n",
    "\n",
    "$$u(x) = W(\\xi).$$\n",
    "\n",
    "Plugging this into the differential equation gives\n",
    "\n",
    "$$W''(\\xi) + 2\\epsilon^{k-1}W'(\\xi)W(\\xi) = 0.$$\n",
    "\n",
    "We use $k=1$ to maximize information, giving $W + 2W'W = 0.$ My attempt at finding the solution by hand failed, so I plugged it into WolframAlpha and got\n",
    "\n",
    "$$W(\\xi) = \\pm w_0\\tanh(w_0\\xi).$$\n",
    "\n",
    "(Sure, you can add another constant inside the $\\tanh$, but that would be the same as moving $\\bar{x}$. Also, I should add that it is $+$ when $\\beta > \\alpha$ and $-$ when $\\beta < \\alpha$.)\n",
    "\n",
    "As $\\epsilon\\to 0$ for any $x < \\bar{x}$ we get $\\xi \\to -\\infty$, so the left boundary condition on $W$ is\n",
    "\n",
    "$$\\lim_{\\xi\\to -\\infty}W(\\xi) = w_0 = \\alpha.$$\n",
    "\n",
    "Similarly the right boundary condition is\n",
    "\n",
    "$$\\lim_{\\xi\\to\\infty}W(\\xi) = w_0 = \\beta.$$\n",
    "\n",
    "Therefore there is an interior layer only when $\\alpha + \\beta = 0,$ and we get $w_0 = \\beta$. Now we plug in $x$ for $\\xi$:\n",
    "\n",
    "$$u(x) = W(\\xi) = \\pm \\beta\\tanh\\left(\\beta\\cdot\\frac{x-\\bar{x}}{\\epsilon}\\right)$$\n",
    "\n",
    "We define a new variable $y(x) = \\bar{x} + x\\cdot \\frac{\\epsilon}{\\beta}$ so that\n",
    "\n",
    "$$u(y(x)) = \\pm\\beta\\tanh(x) = \\mp\\beta\\tanh (-x) = -u(y(-x))\\implies u(y(x)) + u(y(-x)) = 0.$$\n",
    "\n",
    "But recall that $u(0) + u(1) = -\\beta + \\beta = 0$, and as\n",
    "\n",
    "$$y\\left(-\\bar{x}\\cdot \\frac{\\beta}{\\epsilon}\\right) = 0,$$\n",
    "\n",
    "this means\n",
    "\n",
    "$$1 = y\\left(-\\left(-\\bar{x}\\cdot\\frac{\\beta}{\\epsilon}\\right)\\right)$$\n",
    "\n",
    "i.e.\n",
    "\n",
    "$$1 = \\bar{x} + \\bar{x}\\implies \\bar{x}=\\frac12$$\n"
   ]
  },
  {
   "cell_type": "code",
   "execution_count": 56,
   "metadata": {},
   "outputs": [
    {
     "data": {
      "image/png": "[encoded data removed]",
      "text/plain": [
       "<Figure size 432x288 with 1 Axes>"
      ]
     },
     "metadata": {
      "needs_background": "light"
     },
     "output_type": "display_data"
    }
   ],
   "source": [
    "import numpy as np\n",
    "import matplotlib.pyplot as plt\n",
    "\n",
    "alpha = 0.5\n",
    "beta = -alpha\n",
    "eps = 0.01\n",
    "xbar = 0.5\n",
    "c = beta\n",
    "\n",
    "x = np.linspace(0, 1, 1000)\n",
    "\n",
    "plt.plot(x, np.full_like(x, alpha), linestyle=\"--\", label=r\"$\\alpha\"+f\"={alpha}$\")\n",
    "plt.plot(x, np.full_like(x, beta), linestyle=\"--\", label=r\"$\\beta\"+f\"={beta}$\")\n",
    "\n",
    "xi = (x-xbar)/eps\n",
    "W = c**2/abs(c) * np.tanh(c*xi)\n",
    "\n",
    "plt.plot(x, W, label=r\"W ($\\epsilon=\"+f\"{eps}$)\")\n",
    "plt.axvline(xbar, label=r\"$\\overline{x}$\", color=\"pink\")\n",
    "\n",
    "plt.title(\"What it looks like.\")\n",
    "plt.xlabel(\"x\")\n",
    "plt.ylabel(r\"$\\approx u(x)$\")\n",
    "plt.legend()\n",
    "plt.show();"
   ]
  },
  {
   "cell_type": "code",
   "execution_count": null,
   "metadata": {},
   "outputs": [],
   "source": []
  }
 ],
 "metadata": {
  "kernelspec": {
   "display_name": "Python 3",
   "language": "python",
   "name": "python3"
  },
  "language_info": {
   "codemirror_mode": {
    "name": "ipython",
    "version": 3
   },
   "file_extension": ".py",
   "mimetype": "text/x-python",
   "name": "python",
   "nbconvert_exporter": "python",
   "pygments_lexer": "ipython3",
   "version": "3.7.4"
  }
 },
 "nbformat": 4,
 "nbformat_minor": 2
}
